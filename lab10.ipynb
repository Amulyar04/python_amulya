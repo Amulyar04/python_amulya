{
  "nbformat": 4,
  "nbformat_minor": 0,
  "metadata": {
    "colab": {
      "provenance": [],
      "toc_visible": true,
      "authorship_tag": "ABX9TyMfLvpvm079YdU7jppZK8ce",
      "include_colab_link": true
    },
    "kernelspec": {
      "name": "python3",
      "display_name": "Python 3"
    },
    "language_info": {
      "name": "python"
    }
  },
  "cells": [
    {
      "cell_type": "markdown",
      "metadata": {
        "id": "view-in-github",
        "colab_type": "text"
      },
      "source": [
        "<a href=\"https://colab.research.google.com/github/Amulyar04/python_amulya/blob/main/lab10.ipynb\" target=\"_parent\"><img src=\"https://colab.research.google.com/assets/colab-badge.svg\" alt=\"Open In Colab\"/></a>"
      ]
    },
    {
      "cell_type": "code",
      "source": [
        "# Case-sensitive variables names\n",
        "\n",
        "variable = \"lower case\"\n",
        "variable = \"upper case\"\n",
        "VARIABLE = \"ALL CAPS\"\n",
        "print(variable) # outputs: lowercase\n",
        "print(variable) # outputs: uppercase\n",
        "print(VARIABLE) # outputs: All caps"
      ],
      "metadata": {
        "colab": {
          "base_uri": "https://localhost:8080/"
        },
        "id": "gTJfFwl5dvN9",
        "outputId": "b20b5557-00bb-4634-eb51-bf48899a5ab0"
      },
      "execution_count": 3,
      "outputs": [
        {
          "output_type": "stream",
          "name": "stdout",
          "text": [
            "upper case\n",
            "upper case\n",
            "ALL CAPS\n"
          ]
        }
      ]
    }
  ]
}