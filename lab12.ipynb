{
  "nbformat": 4,
  "nbformat_minor": 0,
  "metadata": {
    "colab": {
      "provenance": [],
      "authorship_tag": "ABX9TyMcmyfyfveB6HahHDaZ3UUb",
      "include_colab_link": true
    },
    "kernelspec": {
      "name": "python3",
      "display_name": "Python 3"
    },
    "language_info": {
      "name": "python"
    }
  },
  "cells": [
    {
      "cell_type": "markdown",
      "metadata": {
        "id": "view-in-github",
        "colab_type": "text"
      },
      "source": [
        "<a href=\"https://colab.research.google.com/github/Amulyar04/python_amulya/blob/main/lab12.ipynb\" target=\"_parent\"><img src=\"https://colab.research.google.com/assets/colab-badge.svg\" alt=\"Open In Colab\"/></a>"
      ]
    },
    {
      "cell_type": "code",
      "source": [
        "# Single-quotes strings\n",
        "single_quoted = 'Hello, World!'\n",
        "# Sting operations with single-quoted strings\n",
        "length = len(single_quoted) # length of the string\n",
        "upper_case = single_quoted. upper() # convert to uppercase\n",
        "lower_case = single_quoted. lower () # convert to lowercase\n",
        "contains_string= 'world' in single_quoted # Check if substring is present\n",
        "# Printing results\n",
        "print(\"single_quoted string:\", single_quoted)\n",
        "print(\"length of the string:\",length)\n",
        "print(\"Uppercase version:\",upper_case)\n",
        "print(\"Lowercase version:\",lower_case)\n",
        "print(\"Contains 'world':\",contains_string)\n"
      ],
      "metadata": {
        "colab": {
          "base_uri": "https://localhost:8080/"
        },
        "id": "UeZ-nXM6kj08",
        "outputId": "7619c082-242f-43c5-e014-af46bba6383c"
      },
      "execution_count": 7,
      "outputs": [
        {
          "output_type": "stream",
          "name": "stdout",
          "text": [
            "single_quoted string: Hello, World!\n",
            "length of the string: 13\n",
            "Uppercase version: HELLO, WORLD!\n",
            "Lowercase version: hello, world!\n",
            "Contains 'world': False\n"
          ]
        }
      ]
    },
    {
      "cell_type": "code",
      "source": [
        "# Dobule-quoted strings\n",
        "double_quoted = \"Edunet is awesome!\"\n",
        "\n",
        "# String operations\n",
        "length = len(double_quoted)          # length of the string\n",
        "replaced_string = double_quoted.replace(\"awesome\", \"great\") # Replace word\n",
        "words = double_quoted.split()         # split int words\n",
        "\n",
        "#printing results\n",
        "print(\"Double-quoted string:\", double_quoted)\n",
        "print(\"Length of the string:\", length)\n",
        "print(\"String after replacement:\", replaced_string)\n",
        "print(\"words in the string:\", words)"
      ],
      "metadata": {
        "colab": {
          "base_uri": "https://localhost:8080/"
        },
        "id": "cKjn03FzpCZc",
        "outputId": "03e2ae9a-0243-4308-c756-2399c21ba698"
      },
      "execution_count": 16,
      "outputs": [
        {
          "output_type": "stream",
          "name": "stdout",
          "text": [
            "Double-quoted string: Edunet is awesome!\n",
            "Length of the string: 18\n",
            "String after replacement: Edunet is great!\n",
            "words in the string: ['Edunet', 'is', 'awesome!']\n"
          ]
        }
      ]
    }
  ]
}