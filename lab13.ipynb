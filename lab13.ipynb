{
  "nbformat": 4,
  "nbformat_minor": 0,
  "metadata": {
    "colab": {
      "provenance": [],
      "authorship_tag": "ABX9TyOwthCc5gBK1eAFHZlccIcd",
      "include_colab_link": true
    },
    "kernelspec": {
      "name": "python3",
      "display_name": "Python 3"
    },
    "language_info": {
      "name": "python"
    }
  },
  "cells": [
    {
      "cell_type": "markdown",
      "metadata": {
        "id": "view-in-github",
        "colab_type": "text"
      },
      "source": [
        "<a href=\"https://colab.research.google.com/github/Amulyar04/python_amulya/blob/main/lab13.ipynb\" target=\"_parent\"><img src=\"https://colab.research.google.com/assets/colab-badge.svg\" alt=\"Open In Colab\"/></a>"
      ]
    },
    {
      "cell_type": "code",
      "execution_count": 1,
      "metadata": {
        "colab": {
          "base_uri": "https://localhost:8080/"
        },
        "id": "KtKJVrOTw4dq",
        "outputId": "7c75d9d1-bc38-4162-b7a5-a84c1abe6b54"
      },
      "outputs": [
        {
          "output_type": "stream",
          "name": "stdout",
          "text": [
            "Original integer values:\n",
            "int1 = 20\n",
            "int2 = -6\n",
            "int3 = 8\n",
            "\n",
            "Converted float values:\n",
            "float1 = 20.0\n",
            "float2 = -6.0\n",
            "float3 = 8.0\n"
          ]
        }
      ],
      "source": [
        "# Integer Values\n",
        "int1 = 20\n",
        "int2 = -6\n",
        "int3 = 8\n",
        "\n",
        "# converting integers to floats\n",
        "float1 = float(int1)\n",
        "float2 = float(int2)\n",
        "float3 = float(int3)\n",
        "\n",
        "# Printing the results\n",
        "print(\"Original integer values:\")\n",
        "print(\"int1 =\", int1)\n",
        "print(\"int2 =\", int2)\n",
        "print(\"int3 =\", int3)\n",
        "\n",
        "print(\"\\nConverted float values:\")\n",
        "print(\"float1 =\", float1)\n",
        "print(\"float2 =\", float2)\n",
        "print(\"float3 =\", float3)\n"
      ]
    }
  ]
}