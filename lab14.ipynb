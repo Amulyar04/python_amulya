{
  "nbformat": 4,
  "nbformat_minor": 0,
  "metadata": {
    "colab": {
      "provenance": [],
      "authorship_tag": "ABX9TyM0LQCXnLAw5H+C+o0vATZM",
      "include_colab_link": true
    },
    "kernelspec": {
      "name": "python3",
      "display_name": "Python 3"
    },
    "language_info": {
      "name": "python"
    }
  },
  "cells": [
    {
      "cell_type": "markdown",
      "metadata": {
        "id": "view-in-github",
        "colab_type": "text"
      },
      "source": [
        "<a href=\"https://colab.research.google.com/github/Amulyar04/python_amulya/blob/main/lab14.ipynb\" target=\"_parent\"><img src=\"https://colab.research.google.com/assets/colab-badge.svg\" alt=\"Open In Colab\"/></a>"
      ]
    },
    {
      "cell_type": "code",
      "execution_count": 3,
      "metadata": {
        "colab": {
          "base_uri": "https://localhost:8080/"
        },
        "id": "dX_SA8Ht0Yef",
        "outputId": "1b57a462-898c-4db0-9528-7aff1d6ab429"
      },
      "outputs": [
        {
          "output_type": "stream",
          "name": "stdout",
          "text": [
            "The number is62\n"
          ]
        }
      ],
      "source": [
        "# Define a string and an integer\n",
        "string_value = \"The number is\"\n",
        "integer_value = 62\n",
        "\n",
        "# Conver the integer to a string using explicit conversion\n",
        "integer_as_string = str(integer_value)\n",
        "\n",
        "# Concatenate the string and the converted integer\n",
        "result = string_value + integer_as_string\n",
        "\n",
        "# Print the result\n",
        "print(result)\n"
      ]
    }
  ]
}