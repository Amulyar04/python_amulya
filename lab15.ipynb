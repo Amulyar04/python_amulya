{
  "nbformat": 4,
  "nbformat_minor": 0,
  "metadata": {
    "colab": {
      "provenance": [],
      "authorship_tag": "ABX9TyPNiYj9jDJmDkBJ8orkKVrq",
      "include_colab_link": true
    },
    "kernelspec": {
      "name": "python3",
      "display_name": "Python 3"
    },
    "language_info": {
      "name": "python"
    }
  },
  "cells": [
    {
      "cell_type": "markdown",
      "metadata": {
        "id": "view-in-github",
        "colab_type": "text"
      },
      "source": [
        "<a href=\"https://colab.research.google.com/github/Amulyar04/python_amulya/blob/main/lab15.ipynb\" target=\"_parent\"><img src=\"https://colab.research.google.com/assets/colab-badge.svg\" alt=\"Open In Colab\"/></a>"
      ]
    },
    {
      "cell_type": "code",
      "execution_count": 14,
      "metadata": {
        "colab": {
          "base_uri": "https://localhost:8080/"
        },
        "id": "cFoviYji3EEr",
        "outputId": "cc8e0903-7f0f-4c1a-ca43-e76b4f3e4c4a"
      },
      "outputs": [
        {
          "output_type": "stream",
          "name": "stdout",
          "text": [
            "Addition: 15 + 5 = 20\n",
            "Subtration: 15 - 5 = 10\n",
            "Multiplcation: 15 * 5 = 75\n",
            "Division: 15 / 5 = 3.0\n",
            "Floor Division: 15 // 5 = 3\n",
            "Modulus: 15 % 5 = 0\n",
            "Exponentiation: 15 ** 5 = 759375\n"
          ]
        }
      ],
      "source": [
        "# Define two numbers\n",
        "a = 15\n",
        "b = 5\n",
        "\n",
        "# Addition\n",
        "addition_result = a+b\n",
        "print (\"Addition: {} + {} = {}\". format(a, b, addition_result))\n",
        "\n",
        "# Subtraction\n",
        "subtraction_result = a - b\n",
        "print(\"Subtration: {} - {} = {}\". format(a, b, subtraction_result))\n",
        "\n",
        "# Multiplication\n",
        "mulitiplication_result  = a * b\n",
        "print(\"Multiplcation: {} * {} = {}\". format(a, b, mulitiplication_result))\n",
        "\n",
        "# Division\n",
        "division_result = a / b\n",
        "print(\"Division: {} / {} = {}\". format(a, b, division_result))\n",
        "\n",
        "# Floor Division\n",
        "floor_division_result = a // b\n",
        "print(\"Floor Division: {} // {} = {}\". format(a, b, floor_division_result))\n",
        "\n",
        "# Modulus\n",
        "modulus_result = a % b\n",
        "print(\"Modulus: {} % {} = {}\". format(a, b,modulus_result))\n",
        "\n",
        "# Exponentiation\n",
        "exponentiation_result_ = a ** b\n",
        "print(\"Exponentiation: {} ** {} = {}\". format(a, b,exponentiation_result_))\n"
      ]
    }
  ]
}