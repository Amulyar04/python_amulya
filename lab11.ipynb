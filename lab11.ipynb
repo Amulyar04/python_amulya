{
  "nbformat": 4,
  "nbformat_minor": 0,
  "metadata": {
    "colab": {
      "provenance": [],
      "authorship_tag": "ABX9TyMpFtztaTpS9C1uOzxgMFnt",
      "include_colab_link": true
    },
    "kernelspec": {
      "name": "python3",
      "display_name": "Python 3"
    },
    "language_info": {
      "name": "python"
    }
  },
  "cells": [
    {
      "cell_type": "markdown",
      "metadata": {
        "id": "view-in-github",
        "colab_type": "text"
      },
      "source": [
        "<a href=\"https://colab.research.google.com/github/Amulyar04/python_amulya/blob/main/lab11.ipynb\" target=\"_parent\"><img src=\"https://colab.research.google.com/assets/colab-badge.svg\" alt=\"Open In Colab\"/></a>"
      ]
    },
    {
      "cell_type": "code",
      "execution_count": 3,
      "metadata": {
        "colab": {
          "base_uri": "https://localhost:8080/"
        },
        "id": "BR6ePu96fx3s",
        "outputId": "7ca9e4eb-5403-4dfe-8616-8ccf69ee417e"
      },
      "outputs": [
        {
          "output_type": "stream",
          "name": "stdout",
          "text": [
            "Integer values:\n",
            "integer1 = 10\n",
            "integer2 = -5\n",
            "integer3 = , integer3\n",
            "sum of integer1 and integer2: 5\n",
            "product of integer1 and 3: 30\n",
            "Diffence between integer1 and integer2: 15\n",
            "\n",
            "Floating-point values:\n",
            "float1 = 4.15\n",
            "float2 = -3.425\n",
            "float3 = 0.15\n",
            "sum of float1 and float2: 0.7250000000000005\n",
            "product of float1 and 2: 8.3\n",
            "Difference between float1 and float2: 7.575\n",
            "\n",
            "Complex values:\n",
            "complex1 = (4+5j)\n",
            "complex2= (-6-4j)\n",
            "complex3 = (2+6j)\n",
            "Sum of complex1 and comp,lex2: (-2+1j)\n",
            "product of complex1 and (1+1j): (-12+67j)\n",
            "Difference between complex1 and complex2: (10+9j)\n"
          ]
        }
      ],
      "source": [
        "# Assiging integer literals to variables\n",
        "integer1 = 10\n",
        "integer2 = -5\n",
        "interger3 = 0\n",
        "\n",
        "print(\"Integer values:\")\n",
        "print(\"integer1 =\", integer1)\n",
        "print(\"integer2 =\", integer2)\n",
        "print(\"integer3 = , integer3\")\n",
        "# performing operation on integer literals\n",
        "print(\"sum of integer1 and integer2:\", integer1 + integer2)\n",
        "print(\"product of integer1 and 3:\", integer1*3)\n",
        "print (\"Diffence between integer1 and integer2:\", integer1 - integer2)\n",
        "\n",
        "# Assiging floating-ponit literals to variables\n",
        "float1 = 4.15\n",
        "float2 = -3.425\n",
        "float3 = 0.15\n",
        "# performing  operations with floating-point numbers\n",
        "sum_floats = float1 + float2\n",
        "product_floats = float1 * 2\n",
        "difference_floats = float1 - float2\n",
        "# Printing floating-point values and results of operations\n",
        "print (\"\\nFloating-point values:\")\n",
        "print(\"float1 =\", float1)\n",
        "print(\"float2 =\", float2)\n",
        "print(\"float3 =\", float3)\n",
        "print(\"sum of float1 and float2:\", sum_floats)\n",
        "print(\"product of float1 and 2:\", product_floats)\n",
        "print(\"Difference between float1 and float2:\", difference_floats)\n",
        "\n",
        "# Assinging complex literals to variables\n",
        "complex1 = 4 + 5j\n",
        "complex2 = -6 -4j\n",
        "complex3 = 2 + 6j\n",
        "# perfromig operations with complex numbers\n",
        "sum_complex = complex1 + complex2\n",
        "product_complex = complex1 * (7+8j)\n",
        "difference_complex = complex1 - complex2\n",
        "# printing complex values and results of operations\n",
        "print(\"\\nComplex values:\")\n",
        "print(\"complex1 =\", complex1)\n",
        "print(\"complex2=\", complex2)\n",
        "print(\"complex3 =\", complex3)\n",
        "print(\"Sum of complex1 and comp,lex2:\", sum_complex)\n",
        "print(\"product of complex1 and (1+1j):\", product_complex)\n",
        "print(\"Difference between complex1 and complex2:\", difference_complex)\n",
        "\n"
      ]
    },
    {
      "cell_type": "code",
      "source": [],
      "metadata": {
        "id": "r0gMBLQhmgC9"
      },
      "execution_count": null,
      "outputs": []
    }
  ]
}