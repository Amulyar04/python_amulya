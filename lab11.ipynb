{
  "nbformat": 4,
  "nbformat_minor": 0,
  "metadata": {
    "colab": {
      "provenance": [],
      "authorship_tag": "ABX9TyPHB3oY8h009rqoIQt1ZmfR",
      "include_colab_link": true
    },
    "kernelspec": {
      "name": "python3",
      "display_name": "Python 3"
    },
    "language_info": {
      "name": "python"
    }
  },
  "cells": [
    {
      "cell_type": "markdown",
      "metadata": {
        "id": "view-in-github",
        "colab_type": "text"
      },
      "source": [
        "<a href=\"https://colab.research.google.com/github/Amulyar04/python_amulya/blob/main/lab11.ipynb\" target=\"_parent\"><img src=\"https://colab.research.google.com/assets/colab-badge.svg\" alt=\"Open In Colab\"/></a>"
      ]
    },
    {
      "cell_type": "code",
      "execution_count": null,
      "metadata": {
        "colab": {
          "base_uri": "https://localhost:8080/"
        },
        "id": "BR6ePu96fx3s",
        "outputId": "c85a67d0-dd93-4757-d0fa-0c7cd00504ad"
      },
      "outputs": [
        {
          "output_type": "stream",
          "name": "stdout",
          "text": [
            "Integer values:\n",
            "integer1 = 10\n",
            "integer2 = -5\n",
            "integer3 = , integer3\n",
            "sum of integer1 and integer2: 5\n",
            "product of integer1 and 3: 30\n",
            "Diffence between integer1 and integer2: 15\n"
          ]
        }
      ],
      "source": [
        "# Assiging integer literals to variables\n",
        "integer1 = 10\n",
        "integer2 = -5\n",
        "interger3 = 0\n",
        "\n",
        "print(\"Integer values:\")\n",
        "print(\"integer1 =\", integer1)\n",
        "print(\"integer2 =\", integer2)\n",
        "print(\"integer3 = , integer3\")\n",
        "# performing operation on integer literals\n",
        "print(\"sum of integer1 and integer2:\", integer1 + integer2)\n",
        "print(\"product of integer1 and 3:\", integer1*3)\n",
        "print (\"Diffence between integer1 and integer2:\", integer1 - integer2)\n"
      ]
    }
  ]
}